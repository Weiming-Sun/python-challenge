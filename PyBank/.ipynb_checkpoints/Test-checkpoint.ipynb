{
 "cells": [
  {
   "cell_type": "code",
   "execution_count": 1,
   "metadata": {},
   "outputs": [],
   "source": [
    "import os\n",
    "import csv\n",
    "from datetime import datetime\n",
    "\n",
    "budget1csvpath = os.path.join(\"..\",\"PyBank\", \"budget_data_1.csv\")\n",
    "budget2csvpath = os.path.join(\"..\",\"PyBank\", \"budget_data_2.csv\")\n",
    "\n",
    "budget1 = {}\n",
    "budget2 = {}\n",
    "\n",
    "with open(budget1csvpath, newline='') as budget1csvfile:\n",
    "    budget1csv = csv.reader(budget1csvfile, delimiter=\",\")\n",
    "    next(budget1csv, None)\n",
    "    budgetdict1 = dict(budget1csv)\n",
    "\n",
    "with open(budget2csvpath, newline='') as budget2csvfile:\n",
    "    budget2csv = csv.reader(budget2csvfile, delimiter=\",\")\n",
    "    next(budget2csv, None)\n",
    "    budgetdict2 = dict(budget2csv)"
   ]
  },
  {
   "cell_type": "code",
   "execution_count": 2,
   "metadata": {},
   "outputs": [
    {
     "name": "stdout",
     "output_type": "stream",
     "text": [
      "{datetime.datetime(2012, 10, 1, 0, 0): 1154293, datetime.datetime(2012, 11, 1, 0, 0): 885773, datetime.datetime(2012, 12, 1, 0, 0): -448704, datetime.datetime(2013, 1, 1, 0, 0): 563679, datetime.datetime(2013, 2, 1, 0, 0): 555394, datetime.datetime(2013, 3, 1, 0, 0): 631974, datetime.datetime(2013, 4, 1, 0, 0): 957395, datetime.datetime(2013, 5, 1, 0, 0): 1104047, datetime.datetime(2013, 6, 1, 0, 0): 693464, datetime.datetime(2013, 7, 1, 0, 0): 454932, datetime.datetime(2013, 8, 1, 0, 0): 727272, datetime.datetime(2013, 9, 1, 0, 0): 125016, datetime.datetime(2013, 10, 1, 0, 0): 339251, datetime.datetime(2013, 11, 1, 0, 0): 78523, datetime.datetime(2013, 12, 1, 0, 0): 977084, datetime.datetime(2014, 1, 1, 0, 0): 1158718, datetime.datetime(2014, 2, 1, 0, 0): 332681, datetime.datetime(2014, 3, 1, 0, 0): -341227, datetime.datetime(2014, 4, 1, 0, 0): 173826, datetime.datetime(2014, 5, 1, 0, 0): 742611, datetime.datetime(2014, 6, 1, 0, 0): 1189806, datetime.datetime(2014, 7, 1, 0, 0): 607363, datetime.datetime(2014, 8, 1, 0, 0): -1172384, datetime.datetime(2014, 9, 1, 0, 0): 587993, datetime.datetime(2014, 10, 1, 0, 0): 295198, datetime.datetime(2014, 11, 1, 0, 0): -300390, datetime.datetime(2014, 12, 1, 0, 0): 468995, datetime.datetime(2015, 1, 1, 0, 0): 698452, datetime.datetime(2015, 2, 1, 0, 0): 967828, datetime.datetime(2015, 3, 1, 0, 0): -454873, datetime.datetime(2015, 4, 1, 0, 0): 375723, datetime.datetime(2015, 5, 1, 0, 0): 1140526, datetime.datetime(2015, 6, 1, 0, 0): 83836, datetime.datetime(2015, 7, 1, 0, 0): 413189, datetime.datetime(2015, 8, 1, 0, 0): 551363, datetime.datetime(2015, 9, 1, 0, 0): 1195111, datetime.datetime(2015, 10, 1, 0, 0): 657081, datetime.datetime(2015, 11, 1, 0, 0): 66659, datetime.datetime(2015, 12, 1, 0, 0): 803301, datetime.datetime(2016, 1, 1, 0, 0): -953301, datetime.datetime(2016, 2, 1, 0, 0): 883934}\n",
      "41\n",
      "\n",
      "\n"
     ]
    }
   ],
   "source": [
    "budget1 = {datetime.strptime(i,'%b-%y'):int(budgetdict1[i]) for i in budgetdict1.keys()}\n",
    "\n",
    "#for i in budgetdict1.keys():        \n",
    "    # budget1[datetime.strptime(i,'%b-%y')] = budgetdict1[i]\n",
    "\n",
    "print(budget1)\n",
    "\n",
    "print(len(budget1))"
   ]
  },
  {
   "cell_type": "code",
   "execution_count": 4,
   "metadata": {},
   "outputs": [
    {
     "name": "stdout",
     "output_type": "stream",
     "text": [
      "{datetime.datetime(2009, 1, 1, 0, 0): 943690, datetime.datetime(2009, 2, 1, 0, 0): 1062565, datetime.datetime(2009, 3, 1, 0, 0): 210079, datetime.datetime(2009, 4, 1, 0, 0): -735286, datetime.datetime(2009, 5, 1, 0, 0): 842933, datetime.datetime(2009, 6, 1, 0, 0): 358691, datetime.datetime(2009, 7, 1, 0, 0): 914953, datetime.datetime(2009, 8, 1, 0, 0): 723427, datetime.datetime(2009, 9, 1, 0, 0): -837468, datetime.datetime(2009, 10, 1, 0, 0): -146929, datetime.datetime(2009, 11, 1, 0, 0): 831730, datetime.datetime(2009, 12, 1, 0, 0): 917752, datetime.datetime(2010, 1, 1, 0, 0): 800038, datetime.datetime(2010, 2, 1, 0, 0): 1117103, datetime.datetime(2010, 3, 1, 0, 0): 181220, datetime.datetime(2010, 4, 1, 0, 0): 120968, datetime.datetime(2010, 5, 1, 0, 0): 844012, datetime.datetime(2010, 6, 1, 0, 0): 307468, datetime.datetime(2010, 7, 1, 0, 0): 502341, datetime.datetime(2010, 8, 1, 0, 0): -748679, datetime.datetime(2010, 9, 1, 0, 0): -1063151, datetime.datetime(2010, 10, 1, 0, 0): 111367, datetime.datetime(2010, 11, 1, 0, 0): 889322, datetime.datetime(2010, 12, 1, 0, 0): 1028794, datetime.datetime(2011, 1, 1, 0, 0): -705201, datetime.datetime(2011, 2, 1, 0, 0): 457393, datetime.datetime(2011, 3, 1, 0, 0): 358440, datetime.datetime(2011, 4, 1, 0, 0): 110092, datetime.datetime(2011, 5, 1, 0, 0): 1111337, datetime.datetime(2011, 6, 1, 0, 0): 691712, datetime.datetime(2011, 7, 1, 0, 0): 669603, datetime.datetime(2011, 8, 1, 0, 0): 527608, datetime.datetime(2011, 9, 1, 0, 0): 1057492, datetime.datetime(2011, 10, 1, 0, 0): 109267, datetime.datetime(2011, 11, 1, 0, 0): 1106492, datetime.datetime(2011, 12, 1, 0, 0): 531744, datetime.datetime(2012, 1, 1, 0, 0): 1134360, datetime.datetime(2012, 2, 1, 0, 0): -401260, datetime.datetime(2012, 3, 1, 0, 0): 1141606, datetime.datetime(2012, 4, 1, 0, 0): 594289, datetime.datetime(2012, 5, 1, 0, 0): 51905, datetime.datetime(2012, 6, 1, 0, 0): 415204, datetime.datetime(2012, 7, 1, 0, 0): 467130, datetime.datetime(2012, 8, 1, 0, 0): 270918, datetime.datetime(2012, 9, 1, 0, 0): 589902, datetime.datetime(2012, 10, 1, 0, 0): 1056793, datetime.datetime(2012, 11, 1, 0, 0): 250079, datetime.datetime(2012, 12, 1, 0, 0): 91344, datetime.datetime(2013, 1, 1, 0, 0): 431100, datetime.datetime(2013, 2, 1, 0, 0): 801964, datetime.datetime(2013, 3, 1, 0, 0): 50115, datetime.datetime(2013, 4, 1, 0, 0): 525242, datetime.datetime(2013, 5, 1, 0, 0): 55136, datetime.datetime(2013, 6, 1, 0, 0): -497774, datetime.datetime(2013, 7, 1, 0, 0): 360731, datetime.datetime(2013, 8, 1, 0, 0): 391243, datetime.datetime(2013, 9, 1, 0, 0): 339680, datetime.datetime(2013, 10, 1, 0, 0): 809253, datetime.datetime(2013, 11, 1, 0, 0): 924494, datetime.datetime(2013, 12, 1, 0, 0): 998347, datetime.datetime(2014, 1, 1, 0, 0): -524902, datetime.datetime(2014, 2, 1, 0, 0): 747765, datetime.datetime(2014, 3, 1, 0, 0): 197783, datetime.datetime(2014, 4, 1, 0, 0): 131625, datetime.datetime(2014, 5, 1, 0, 0): 1016992, datetime.datetime(2014, 6, 1, 0, 0): -930753, datetime.datetime(2014, 7, 1, 0, 0): 714387, datetime.datetime(2014, 8, 1, 0, 0): 201005, datetime.datetime(2014, 9, 1, 0, 0): 655535, datetime.datetime(2014, 10, 1, 0, 0): 845108, datetime.datetime(2014, 11, 1, 0, 0): 101736, datetime.datetime(2014, 12, 1, 0, 0): -93063, datetime.datetime(2015, 1, 1, 0, 0): 984921, datetime.datetime(2015, 2, 1, 0, 0): -362343, datetime.datetime(2015, 3, 1, 0, 0): 940457, datetime.datetime(2015, 4, 1, 0, 0): 216399, datetime.datetime(2015, 5, 1, 0, 0): 363036, datetime.datetime(2015, 6, 1, 0, 0): 672160, datetime.datetime(2015, 7, 1, 0, 0): 783533, datetime.datetime(2015, 8, 1, 0, 0): 1079882, datetime.datetime(2015, 9, 1, 0, 0): 288933, datetime.datetime(2015, 10, 1, 0, 0): 894500, datetime.datetime(2015, 11, 1, 0, 0): 411593, datetime.datetime(2015, 12, 1, 0, 0): 789575, datetime.datetime(2016, 1, 1, 0, 0): 355838, datetime.datetime(2016, 2, 1, 0, 0): 437489}\n",
      "86\n",
      "\n",
      "\n"
     ]
    }
   ],
   "source": [
    "budget2 = {datetime.strptime(j,'%b-%Y'):int(budgetdict2[j]) for j in budgetdict2.keys()}\n",
    "\n",
    "print(budget2)\n",
    "\n",
    "print(len(budget2))"
   ]
  },
  {
   "cell_type": "code",
   "execution_count": null,
   "metadata": {},
   "outputs": [],
   "source": []
  }
 ],
 "metadata": {
  "kernelspec": {
   "display_name": "Python 3",
   "language": "python",
   "name": "python3"
  },
  "language_info": {
   "codemirror_mode": {
    "name": "ipython",
    "version": 3
   },
   "file_extension": ".py",
   "mimetype": "text/x-python",
   "name": "python",
   "nbconvert_exporter": "python",
   "pygments_lexer": "ipython3",
   "version": "3.6.3"
  }
 },
 "nbformat": 4,
 "nbformat_minor": 2
}
