{
 "cells": [
  {
   "cell_type": "code",
   "execution_count": 1,
   "metadata": {
    "scrolled": false
   },
   "outputs": [],
   "source": [
    "import os\n",
    "import pandas as pd\n",
    "from datetime import datetime\n",
    "\n",
    "budget1csvpath = os.path.join(\"..\",\"PyBank\", \"budget_data_1.csv\")\n",
    "budget2csvpath = os.path.join(\"..\",\"PyBank\", \"budget_data_2.csv\")\n",
    "\n",
    "df1 = pd.read_csv(budget1csvpath).reset_index()\n",
    "df1['Date'] = [datetime.strptime(i,'%b-%y') for i in df1['Date']]\n",
    "\n",
    "df2 = pd.read_csv(budget2csvpath).reset_index()\n",
    "\n",
    "#df = pd.concat([df1,df2])\n",
    "#df['Date'] = pd.to_datetime(df['Date'])\n",
    "#df = df.sort_values('Date')"
   ]
  },
  {
   "cell_type": "code",
   "execution_count": 2,
   "metadata": {},
   "outputs": [],
   "source": [
    "df1['Increase'] = (df1['Revenue'].shift(-1)-df1['Revenue']-1).shift(1)\n",
    "df2['Increase'] = (df2['Revenue'].shift(-1)-df2['Revenue']-1).shift(1)"
   ]
  },
  {
   "cell_type": "code",
   "execution_count": 3,
   "metadata": {},
   "outputs": [],
   "source": [
    "lendf1 = len(df1)\n",
    "sumdf1 = df1['Revenue'].sum()\n",
    "avedf1 = df1['Increase'].mean()\n",
    "maxdf1 = df1['Increase'].max()\n",
    "maxperioddf1 = df1.iloc[df1['Increase'].idxmax(),1].strftime('%b-%Y')\n",
    "mindf1 = df1['Increase'].min()\n",
    "minperioddf1 = df1.iloc[df1['Increase'].idxmin(),1].strftime('%b-%Y')\n",
    "lendf2 = len(df2)\n",
    "sumdf2 = df2['Revenue'].sum()\n",
    "avedf2 = df2['Increase'].mean()\n",
    "maxdf2 = df2['Increase'].max()\n",
    "maxperioddf2 = df2.iloc[df2['Increase'].idxmax(),1]\n",
    "mindf2 = df2['Increase'].min()\n",
    "minperioddf2 = df2.iloc[df2['Increase'].idxmin(),1]"
   ]
  },
  {
   "cell_type": "code",
   "execution_count": 4,
   "metadata": {},
   "outputs": [
    {
     "name": "stdout",
     "output_type": "stream",
     "text": [
      "Financial Analysis\n",
      "-----------------\n",
      "Total Months:  41\n",
      "Total Revenue:  18971412\n",
      "Average Revenue Change:  -6759.975\n",
      "Greatest Increase in Revenue:  Feb-2016 1837234.0\n",
      "Greatest Decrease in Revenue:  Aug-2014 -1779748.0\n",
      "\n",
      "Financial Analysis\n",
      "-----------------\n",
      "Total Months:  86\n",
      "Total Revenue:  36973911\n",
      "Average Revenue Change:  -5956.30588235\n",
      "Greatest Increase in Revenue:  Jul-2014 1645139.0\n",
      "Greatest Decrease in Revenue:  Jun-2014 -1947746.0\n"
     ]
    }
   ],
   "source": [
    "print(\"Financial Analysis\\n-----------------\")\n",
    "print('Total Months: ',lendf1)\n",
    "print('Total Revenue: ',sumdf1)\n",
    "print('Average Revenue Change: ',avedf1)\n",
    "print('Greatest Increase in Revenue: ',maxperioddf1,maxdf1)\n",
    "print('Greatest Decrease in Revenue: ',minperioddf1,mindf1)\n",
    "print(\"\\nFinancial Analysis\\n-----------------\")\n",
    "print('Total Months: ',lendf2)\n",
    "print('Total Revenue: ',sumdf2)\n",
    "print('Average Revenue Change: ',avedf2)\n",
    "print('Greatest Increase in Revenue: ',maxperioddf2,maxdf2)\n",
    "print('Greatest Decrease in Revenue: ',minperioddf2,mindf2)"
   ]
  },
  {
   "cell_type": "code",
   "execution_count": null,
   "metadata": {},
   "outputs": [],
   "source": []
  }
 ],
 "metadata": {
  "kernelspec": {
   "display_name": "Python 3",
   "language": "python",
   "name": "python3"
  },
  "language_info": {
   "codemirror_mode": {
    "name": "ipython",
    "version": 3
   },
   "file_extension": ".py",
   "mimetype": "text/x-python",
   "name": "python",
   "nbconvert_exporter": "python",
   "pygments_lexer": "ipython3",
   "version": "3.6.3"
  }
 },
 "nbformat": 4,
 "nbformat_minor": 2
}
