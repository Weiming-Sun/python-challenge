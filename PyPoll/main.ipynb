{
 "cells": [
  {
   "cell_type": "code",
   "execution_count": 1,
   "metadata": {},
   "outputs": [],
   "source": [
    "import pandas as pd"
   ]
  },
  {
   "cell_type": "code",
   "execution_count": 2,
   "metadata": {},
   "outputs": [],
   "source": [
    "electiondata1csv = \"election_data_1.csv\"\n",
    "electiondata2csv = \"election_data_2.csv\""
   ]
  },
  {
   "cell_type": "code",
   "execution_count": 3,
   "metadata": {},
   "outputs": [],
   "source": [
    "ele1_df = pd.read_csv(electiondata1csv)\n",
    "ele2_df = pd.read_csv(electiondata2csv)"
   ]
  },
  {
   "cell_type": "code",
   "execution_count": 4,
   "metadata": {},
   "outputs": [],
   "source": [
    "lencount1 = ele1_df[\"Voter ID\"].count()\n",
    "lencount2 = ele2_df[\"Voter ID\"].count()"
   ]
  },
  {
   "cell_type": "code",
   "execution_count": 5,
   "metadata": {},
   "outputs": [],
   "source": [
    "newele1 = ele1_df.groupby('Candidate')['Voter ID'].count().reset_index()\n",
    "newele1['Percentage'] = 100 * newele1['Voter ID']  / newele1['Voter ID'].sum()\n",
    "newele2 = ele2_df.groupby('Candidate')['Voter ID'].count().reset_index()\n",
    "newele2['Percentage'] = 100 * newele2['Voter ID']  / newele2['Voter ID'].sum()\n",
    "\n",
    "##countvoter1 = ele1_df[\"Candidate\"].value_counts()\n",
    "##percent1 = countvoter1/lencount1\n",
    "##countvoter2 = ele2_df[\"Candidate\"].value_counts()\n",
    "##percent2 = countvoter2/lencount2"
   ]
  },
  {
   "cell_type": "code",
   "execution_count": 6,
   "metadata": {},
   "outputs": [],
   "source": [
    "maxcandname1 = newele1.iloc[newele1['Voter ID'].idxmax(),0]\n",
    "maxcandname2 = newele2.iloc[newele2['Voter ID'].idxmax(),0]"
   ]
  },
  {
   "cell_type": "code",
   "execution_count": 7,
   "metadata": {},
   "outputs": [
    {
     "name": "stdout",
     "output_type": "stream",
     "text": [
      "Election Results\n",
      "-------------------------\n",
      "Total Votes:  803000\n",
      "-------------------------\n",
      "   Candidate  Voter ID  Percentage\n",
      "0    Cordin     24090         3.0\n",
      "1      Seth     40150         5.0\n",
      "2    Torres    353320        44.0\n",
      "3    Vestal    385440        48.0\n",
      "-------------------------\n",
      "Winner:  Vestal \n",
      "-------------------------\n",
      "\n",
      "\n",
      "Election Results\n",
      "-------------------------\n",
      "Total Votes:  3521001\n",
      "-------------------------\n",
      "   Candidate  Voter ID  Percentage\n",
      "0    Correy    704200   19.999994\n",
      "1      Khan   2218231   63.000011\n",
      "2        Li    492940   13.999996\n",
      "3  O'Tooley    105630    2.999999\n",
      "-------------------------\n",
      "Winner:  Khan \n",
      "-------------------------\n"
     ]
    }
   ],
   "source": [
    "print('Election Results\\n-------------------------\\nTotal Votes: ',lencount1)\n",
    "print('-------------------------\\n',newele1)\n",
    "print('-------------------------\\nWinner: ',maxcandname1,'\\n-------------------------')\n",
    "print('\\n')\n",
    "print('Election Results\\n-------------------------\\nTotal Votes: ',lencount2)\n",
    "print('-------------------------\\n',newele2)\n",
    "print('-------------------------\\nWinner: ',maxcandname2,'\\n-------------------------')"
   ]
  }
 ],
 "metadata": {
  "kernelspec": {
   "display_name": "Python 3",
   "language": "python",
   "name": "python3"
  },
  "language_info": {
   "codemirror_mode": {
    "name": "ipython",
    "version": 3
   },
   "file_extension": ".py",
   "mimetype": "text/x-python",
   "name": "python",
   "nbconvert_exporter": "python",
   "pygments_lexer": "ipython3",
   "version": "3.6.3"
  }
 },
 "nbformat": 4,
 "nbformat_minor": 2
}
